{
 "cells": [
  {
   "cell_type": "markdown",
   "metadata": {},
   "source": [
    "This notebook performs simple radiative transfer of Lyman-Birge-Hopfield band emissions along a single atmospheric column. GLOW output fields are required to perform the radiative transfer. The top of atmosphere radiances are then compared with SSUSI observations."
   ]
  },
  {
   "cell_type": "code",
   "execution_count": 59,
   "metadata": {},
   "outputs": [],
   "source": [
    "import numpy as np\n",
    "import pandas as pd\n",
    "from netCDF4 import Dataset"
   ]
  },
  {
   "cell_type": "code",
   "execution_count": 196,
   "metadata": {},
   "outputs": [],
   "source": [
    "# Define (approximate) O2 absorption cross section over LBHl and LBHs\n",
    "x_o2_l = 6.5222e-19 # 140-150 nm mean from o2 cross section file\n",
    "x_o2_s = 1.27775e-17 # 165-180 nm mean from o2 cross section file\n",
    "\n",
    "# Define fraction of LBH bandwidth in LBHl and LBHs\n",
    "frac_lbhs = 0.25 \n",
    "frac_lbhl = 0.21 "
   ]
  },
  {
   "cell_type": "code",
   "execution_count": 197,
   "metadata": {},
   "outputs": [],
   "source": [
    "# Read csv GLOW output file\n",
    "csv_filename = 'F16_2014220_29344.csv'\n",
    "\n",
    "# Read csv file into pandas dataframe, skipping header rows\n",
    "data = pd.read_csv(csv_filename,skiprows = 11)\n",
    "\n",
    "# Grab data needed for radiative transfer calculation and convert to numpy array\n",
    "rt_data = np.flip(data[['# z','O2','LBH']].to_numpy(),axis=0) # flipped such that higher altitudes are at beginning"
   ]
  },
  {
   "cell_type": "code",
   "execution_count": 198,
   "metadata": {},
   "outputs": [
    {
     "name": "stdout",
     "output_type": "stream",
     "text": [
      "550.7946840644107\n",
      "637.3315792662837\n"
     ]
    }
   ],
   "source": [
    "# Compute path length for each vertical location\n",
    "dpath = np.empty(np.size(rt_data[:,0]))\n",
    "for i in range(np.size(rt_data[:,0])-1):\n",
    "    dpath[i] = rt_data[i,0]-rt_data[i+1,0]\n",
    "dpath[-1] = dpath[-2]\n",
    "\n",
    "# Compute slant column density of O2 above each atltitude\n",
    "scdo2 = np.empty(np.size(rt_data[:,0]))\n",
    "for lev in range(np.size(rt_data[:,0])):\n",
    "    scdo2[lev] = np.inner(rt_data[0:lev+1,1],dpath[0:lev+1]*1.e5) #km to cm\n",
    "    \n",
    "# Compute optical depth for each altitude\n",
    "tau_O2_l = scdo2*x_o2_l\n",
    "tau_O2_s = scdo2*x_o2_s\n",
    "\n",
    "#Compute top-of-atmosphere radiance for LBHl and LBHs\n",
    "scblbhl = 1e-6*frac_lbhl*np.inner(rt_data[:,2],np.multiply(np.exp(-tau_O2_l),dpath*1e5)) \n",
    "scblbhs = 1e-6*frac_lbhs*np.inner(np.multiply(rt_data[:,2],dpath*1e5),np.exp(-tau_O2_s))\n",
    "\n",
    "print(scblbhl)\n",
    "print(scblbhs)\n",
    "        "
   ]
  }
 ],
 "metadata": {
  "kernelspec": {
   "display_name": "Python 3",
   "language": "python",
   "name": "python3"
  },
  "language_info": {
   "codemirror_mode": {
    "name": "ipython",
    "version": 3
   },
   "file_extension": ".py",
   "mimetype": "text/x-python",
   "name": "python",
   "nbconvert_exporter": "python",
   "pygments_lexer": "ipython3",
   "version": "3.7.3"
  }
 },
 "nbformat": 4,
 "nbformat_minor": 2
}
